{
 "cells": [
  {
   "cell_type": "markdown",
   "metadata": {},
   "source": [
    "# Data Wrangling Report  "
   ]
  },
  {
   "cell_type": "markdown",
   "metadata": {},
   "source": [
    "\n",
    "\n",
    "## Data set description"
   ]
  },
  {
   "cell_type": "markdown",
   "metadata": {},
   "source": [
    "The data set object of this partial analysis exercise  is the result of merging two separated data sets provided by UDACITY as final project for the Dada Wrangling section of the Data Analyst Nano Degree. The data sets where limited to the offline version  tweeters \"WeRateDogs\", due to Tweeter not approved the access to its API. \n",
    "\n",
    "The data sets:\n",
    "- twitter-archive-enhanced.csv\n",
    "- image-predictions.tsv\n",
    "\n",
    "![](weratedogs.png)\n",
    "\n",
    "\n",
    "<center>fig 01 - We Rate Dogs at Tweeter.</center>\n"
   ]
  },
  {
   "cell_type": "markdown",
   "metadata": {},
   "source": [
    "## Data Insights and Visualizations\n",
    "\n",
    "Exploring the cleaned and merged dataset. (Exploratory Data Analisys - EDA)"
   ]
  },
  {
   "cell_type": "markdown",
   "metadata": {},
   "source": [
    "### [Insight 1]  Dogs Names and  Dog Stage sparcity is the highest rates for the dataset\n",
    "\n",
    "The sparcity is known as the Missing Values ratio. It can be calculated by total number of lines divided by the number of missing values for each column. \n",
    "\n",
    "- Dog Stage Nan ratio: 0.8441994247363375\n",
    "- Dog Names Nan ratio: 0.31255992329817833\n",
    "\n",
    "\n",
    "![missing_values_bar](image/histogram02_1.png)\n",
    "\n",
    "<center>fig 02 - Valid Data for the cleaned data set.</center>\n",
    "\n",
    "\n",
    "\n",
    "![Dogs Stages](image/histogram02.png)\n",
    "\n",
    "\n",
    "<center>fig 03 - Dog Stages counting.</center>\n",
    "\n",
    "\n"
   ]
  },
  {
   "cell_type": "markdown",
   "metadata": {},
   "source": [
    "### [Insight 2] For the tweets with known valid dog stage entries,  the most common is the pupper followed by doggo, puppo and floofer . \n",
    "\n",
    "Exploring known dog stages and counting unique dog stages for these entries is possible to identify that the most common dog stage classinfication in the data set is pupper followed by doggo, puppo and floofer . \n",
    "\n",
    "\n",
    "\n",
    "\n",
    "![Dogs Stages](image/histogram02_2.png)\n",
    "\n",
    "\n"
   ]
  },
  {
   "cell_type": "markdown",
   "metadata": {},
   "source": [
    "### [Insight 3] Puppers dog has the less numerator rating averange.\n",
    "\n",
    "Exploring the rates for dogs based in the stage it is possible to depict that pupper has the less numerator rate averange.\n",
    "\n",
    "![Dogs rates](image/histogram03.png)\n"
   ]
  },
  {
   "cell_type": "markdown",
   "metadata": {},
   "source": [
    "## Visualization\n",
    "\n",
    "Visualizing cleaned dataframe sparsity can help directing how the missing values will be treated. Specific for this project, due to high sparsity of Dog_stage column and moderate at name column a good approach is fill missing values with \"unknown\". "
   ]
  },
  {
   "cell_type": "markdown",
   "metadata": {},
   "source": [
    "![Dogs Stages](image/msno_01_test.png)\n",
    "\n"
   ]
  },
  {
   "cell_type": "markdown",
   "metadata": {},
   "source": [
    "## Conclusions\n",
    "\n",
    "Further exploration analysis must be conducted using the data set, it is possible that different strategies for dataframe merging or missing values treatment can rise. Nevertheless, this is why data wrangling is considered an iterative process."
   ]
  },
  {
   "cell_type": "code",
   "execution_count": null,
   "metadata": {},
   "outputs": [],
   "source": []
  },
  {
   "cell_type": "code",
   "execution_count": null,
   "metadata": {},
   "outputs": [],
   "source": []
  },
  {
   "cell_type": "code",
   "execution_count": null,
   "metadata": {},
   "outputs": [],
   "source": []
  }
 ],
 "metadata": {
  "kernelspec": {
   "display_name": "Python 3",
   "language": "python",
   "name": "python3"
  },
  "language_info": {
   "codemirror_mode": {
    "name": "ipython",
    "version": 3
   },
   "file_extension": ".py",
   "mimetype": "text/x-python",
   "name": "python",
   "nbconvert_exporter": "python",
   "pygments_lexer": "ipython3",
   "version": "3.8.10"
  }
 },
 "nbformat": 4,
 "nbformat_minor": 2
}
